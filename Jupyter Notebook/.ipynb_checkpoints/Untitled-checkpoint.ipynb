{
 "cells": [
  {
   "cell_type": "code",
   "execution_count": 1,
   "metadata": {},
   "outputs": [
    {
     "name": "stderr",
     "output_type": "stream",
     "text": [
      "Using TensorFlow backend.\n"
     ]
    }
   ],
   "source": [
    "from keras.models import Sequential\n",
    "from keras.layers import *\n",
    "from collections import deque\n",
    "import numpy as np\n",
    "import pandas as pd\n",
    "import matplotlib.pyplot as plt\n",
    "import random"
   ]
  },
  {
   "cell_type": "code",
   "execution_count": 2,
   "metadata": {},
   "outputs": [],
   "source": [
    "class Agent:\n",
    "    \n",
    "    def __init__(self, state_size=3, action_size=3):\n",
    "        \n",
    "        self.action_size = action_size\n",
    "        self.state_size = state_size\n",
    "        self.memory = deque(maxlen=2000)\n",
    "        self.gamma = 0.95\n",
    "        self.epsilon = 1.0\n",
    "        self.epsilon_decay = 0.995\n",
    "        self.epsilon_min = 0.01\n",
    "        self.learning_rate = 0.001\n",
    "        \n",
    "        self.model = self._create_model_action_predict()\n",
    "        \n",
    "    def _create_model_action_predict(self):\n",
    "        \n",
    "        model = Sequential()\n",
    "        model.add(LSTM(4,input_shape=(self.state_size,1), return_sequences=True))\n",
    "        #model.add(Dropout(0.3))\n",
    "        model.add(LSTM(4))\n",
    "        model.add(Dropout(0.3))\n",
    "        model.add(Dense(self.action_size, activation=\"softmax\"))\n",
    "        model.compile(loss=\"mean_squared_error\", optimizer='adam', metrics=['acc'])\n",
    "        \n",
    "        return model\n",
    "    \n",
    "    def remember(self, state, action, reward, next_state, done):\n",
    "        \n",
    "        self.memory.append((state, action, reward, next_state, done))\n",
    "        \n",
    "    def act(self, state):\n",
    "        \n",
    "        if np.random.rand() <= self.epsilon:\n",
    "            \n",
    "            return random.randrange(self.action_size)\n",
    "        \n",
    "        return np.argmax(self.model.predict(state)[0])\n",
    "    \n",
    "    def train(self, batch_size=32):\n",
    "        \n",
    "        minibatch = random.sample(self.memory, batch_size)\n",
    "        \n",
    "        for experience in minibatch:\n",
    "            \n",
    "            state, action, reward, next_state, done = experience\n",
    "            \n",
    "            if not done:\n",
    "                \n",
    "                target = reward + self.gamma*np.amax(self.model.predict(next_state)[0])\n",
    "                \n",
    "            else:\n",
    "                \n",
    "                target = reward\n",
    "                \n",
    "            target_f = self.model.predict(state)\n",
    "            target_f[0][action] = target\n",
    "            \n",
    "            self.model.fit(state, target_f, epochs=1, verbose=0)\n",
    "            \n",
    "        if self.epsilon > self.epsilon_min:\n",
    "            \n",
    "            self.epsilon *= self.epsilon_decay\n",
    "            \n",
    "    def load(self, name):\n",
    "        self.model.load_weights(name)\n",
    "        \n",
    "    def save(self, name):\n",
    "        self.model.save_weights(name)"
   ]
  },
  {
   "cell_type": "markdown",
   "metadata": {},
   "source": []
  },
  {
   "cell_type": "code",
   "execution_count": 3,
   "metadata": {},
   "outputs": [],
   "source": [
    "n_episodes = 50\n",
    "output_dir = 'trading_bot/'\n",
    "\n",
    "done = False\n",
    "state_size = 3\n",
    "action_size = 3\n",
    "batch_size = 32\n",
    "agent = Agent(state_size, action_size)"
   ]
  },
  {
   "cell_type": "code",
   "execution_count": 4,
   "metadata": {},
   "outputs": [
    {
     "ename": "SyntaxError",
     "evalue": "invalid syntax (<ipython-input-4-1dcd665a1ceb>, line 23)",
     "output_type": "error",
     "traceback": [
      "\u001b[0;36m  File \u001b[0;32m\"<ipython-input-4-1dcd665a1ceb>\"\u001b[0;36m, line \u001b[0;32m23\u001b[0m\n\u001b[0;31m    break\u001b[0m\n\u001b[0m        ^\u001b[0m\n\u001b[0;31mSyntaxError\u001b[0m\u001b[0;31m:\u001b[0m invalid syntax\n"
     ]
    }
   ],
   "source": [
    "import gym\n",
    "import gym_trading_bot\n",
    "env = gym.make('TradingBot-v0')\n",
    "\n",
    "for e in range(n_episodes): # this game is won if we complete 200 episodes\n",
    "    state = env.reset()\n",
    "    state = np.reshape(state, [1,state_size,1]) \n",
    "    # We reshape it because we have to pass it to our neural network as an example\n",
    "    \n",
    "    for time in range(5000): # we choose a value higher than 200 as this game completes we if survive for \n",
    "                            # 200 time-steps\n",
    "        env.render()\n",
    "        action = agent.act(state)\n",
    "        next_state,reward,done,other_info = env.step(action)\n",
    "        reward = reward if not done else -10\n",
    "        next_state = np.reshape(next_state,[1,state_size,1])\n",
    "        agent.remember(state,action,reward,next_state,done) # Gaining Experience\n",
    "        state = next_state\n",
    "        \n",
    "        if done:\n",
    "            print(\"Game Episode :{}/{} High Score :{} Exploration Rate:{:.2}\\n--------------------------------------\".format(e+1,n_episodes,time,agent.epsilon))\n",
    "            print(\"Profit: {}\\nLoss: {}\".format((max(0,(env.balance-env.initial_balance_b))), (min(0, (env.balance-env.initial_balance_b)))))\n",
    "            break\n",
    "            \n",
    "    \n",
    "    if len(agent.memory)>batch_size:\n",
    "        agent.train(batch_size)\n",
    "        \n",
    "    # We will save our updated model weights every 50 game episodes\n",
    "    if e%50 == 0:\n",
    "        agent.save(output_dir+\"weights_\"+'{:04d}'.format(e)+\".hdf5\")\n",
    "        \n",
    "print(\"Deep Q-Learner Model Trained\")\n",
    "env.close()"
   ]
  },
  {
   "cell_type": "code",
   "execution_count": null,
   "metadata": {},
   "outputs": [],
   "source": []
  },
  {
   "cell_type": "code",
   "execution_count": null,
   "metadata": {},
   "outputs": [],
   "source": []
  },
  {
   "cell_type": "code",
   "execution_count": 1,
   "metadata": {},
   "outputs": [],
   "source": [
    "import gym"
   ]
  },
  {
   "cell_type": "code",
   "execution_count": 2,
   "metadata": {},
   "outputs": [],
   "source": [
    "import gym_trading_bot"
   ]
  },
  {
   "cell_type": "code",
   "execution_count": 3,
   "metadata": {},
   "outputs": [
    {
     "name": "stderr",
     "output_type": "stream",
     "text": [
      "[2020-03-22 11:07:26,358] Making new env: TradingBot-v0\n",
      "/Users/pritichugh/opt/anaconda3/lib/python3.7/site-packages/gym/envs/registration.py:17: PkgResourcesDeprecationWarning: Parameters to load are deprecated.  Call .resolve and .require separately.\n",
      "  result = entry_point.load(False)\n"
     ]
    },
    {
     "name": "stdout",
     "output_type": "stream",
     "text": [
      "Environment Created\n",
      "Initail Balance: 500000\n",
      "Initial Stock Volume held: 0\n",
      "Initail Profit: 0\n"
     ]
    }
   ],
   "source": [
    "env = gym.make('TradingBot-v0')"
   ]
  },
  {
   "cell_type": "code",
   "execution_count": 4,
   "metadata": {},
   "outputs": [
    {
     "name": "stdout",
     "output_type": "stream",
     "text": [
      "Initial State:[263.75  266.19  267.124]\n"
     ]
    }
   ],
   "source": [
    "init_state = env.reset()\n",
    "print(\"Initial State:{}\".format(init_state))"
   ]
  },
  {
   "cell_type": "code",
   "execution_count": 5,
   "metadata": {},
   "outputs": [
    {
     "name": "stdout",
     "output_type": "stream",
     "text": [
      "0\n"
     ]
    }
   ],
   "source": [
    "action = env.action_space.sample()\n",
    "print(action)"
   ]
  },
  {
   "cell_type": "code",
   "execution_count": 6,
   "metadata": {},
   "outputs": [
    {
     "name": "stdout",
     "output_type": "stream",
     "text": [
      "267.124\n",
      "1871\n",
      "1871\n",
      "500000\n",
      "210.99599999998463\n",
      "Observation:[266.19  267.124 267.89 ]\n",
      "Reward:2.0\n",
      "Done:False\n",
      "Info:{}\n"
     ]
    }
   ],
   "source": [
    "observation,reward,done,other_info = env.step(action)\n",
    "print(\"Observation:{}\\nReward:{}\\nDone:{}\\nInfo:{}\".format(observation,reward,done,other_info))"
   ]
  },
  {
   "cell_type": "code",
   "execution_count": 9,
   "metadata": {},
   "outputs": [
    {
     "name": "stdout",
     "output_type": "stream",
     "text": [
      "499789.004\n",
      "0\n",
      "210.99599999998463\n",
      "1871\n"
     ]
    }
   ],
   "source": [
    "print(env.loss)\n",
    "print(env.profit)\n",
    "print(env.balance)\n",
    "print(env.stock_volume_aquired)"
   ]
  },
  {
   "cell_type": "code",
   "execution_count": null,
   "metadata": {},
   "outputs": [],
   "source": []
  }
 ],
 "metadata": {
  "kernelspec": {
   "display_name": "Python 3",
   "language": "python",
   "name": "python3"
  },
  "language_info": {
   "codemirror_mode": {
    "name": "ipython",
    "version": 3
   },
   "file_extension": ".py",
   "mimetype": "text/x-python",
   "name": "python",
   "nbconvert_exporter": "python",
   "pygments_lexer": "ipython3",
   "version": "3.7.6"
  }
 },
 "nbformat": 4,
 "nbformat_minor": 4
}
