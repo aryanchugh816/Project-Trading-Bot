{
 "cells": [
  {
   "cell_type": "code",
   "execution_count": 1,
   "metadata": {},
   "outputs": [],
   "source": [
    "import numpy as np\n",
    "import pandas as pd"
   ]
  },
  {
   "cell_type": "code",
   "execution_count": 2,
   "metadata": {},
   "outputs": [],
   "source": [
    "data_file = \"./Data/AAPL_1min_full.csv\""
   ]
  },
  {
   "cell_type": "code",
   "execution_count": 3,
   "metadata": {},
   "outputs": [],
   "source": [
    "data = pd.read_csv(data_file)"
   ]
  },
  {
   "cell_type": "code",
   "execution_count": 4,
   "metadata": {},
   "outputs": [
    {
     "data": {
      "text/html": [
       "<div>\n",
       "<style scoped>\n",
       "    .dataframe tbody tr th:only-of-type {\n",
       "        vertical-align: middle;\n",
       "    }\n",
       "\n",
       "    .dataframe tbody tr th {\n",
       "        vertical-align: top;\n",
       "    }\n",
       "\n",
       "    .dataframe thead th {\n",
       "        text-align: right;\n",
       "    }\n",
       "</style>\n",
       "<table border=\"1\" class=\"dataframe\">\n",
       "  <thead>\n",
       "    <tr style=\"text-align: right;\">\n",
       "      <th></th>\n",
       "      <th>date</th>\n",
       "      <th>1. open</th>\n",
       "      <th>2. high</th>\n",
       "      <th>3. low</th>\n",
       "      <th>4. close</th>\n",
       "      <th>5. volume</th>\n",
       "    </tr>\n",
       "  </thead>\n",
       "  <tbody>\n",
       "    <tr>\n",
       "      <th>0</th>\n",
       "      <td>2020-03-09 09:31:00</td>\n",
       "      <td>263.750</td>\n",
       "      <td>266.9199</td>\n",
       "      <td>263.000</td>\n",
       "      <td>266.1900</td>\n",
       "      <td>3420395.0</td>\n",
       "    </tr>\n",
       "    <tr>\n",
       "      <th>1</th>\n",
       "      <td>2020-03-09 09:32:00</td>\n",
       "      <td>266.190</td>\n",
       "      <td>267.2500</td>\n",
       "      <td>265.162</td>\n",
       "      <td>267.1000</td>\n",
       "      <td>351423.0</td>\n",
       "    </tr>\n",
       "    <tr>\n",
       "      <th>2</th>\n",
       "      <td>2020-03-09 09:33:00</td>\n",
       "      <td>267.124</td>\n",
       "      <td>267.9300</td>\n",
       "      <td>266.870</td>\n",
       "      <td>267.8001</td>\n",
       "      <td>316993.0</td>\n",
       "    </tr>\n",
       "    <tr>\n",
       "      <th>3</th>\n",
       "      <td>2020-03-09 09:34:00</td>\n",
       "      <td>267.890</td>\n",
       "      <td>268.1291</td>\n",
       "      <td>266.635</td>\n",
       "      <td>267.4100</td>\n",
       "      <td>319034.0</td>\n",
       "    </tr>\n",
       "    <tr>\n",
       "      <th>4</th>\n",
       "      <td>2020-03-09 09:35:00</td>\n",
       "      <td>267.430</td>\n",
       "      <td>267.4300</td>\n",
       "      <td>267.430</td>\n",
       "      <td>267.4300</td>\n",
       "      <td>0.0</td>\n",
       "    </tr>\n",
       "  </tbody>\n",
       "</table>\n",
       "</div>"
      ],
      "text/plain": [
       "                  date  1. open   2. high   3. low  4. close  5. volume\n",
       "0  2020-03-09 09:31:00  263.750  266.9199  263.000  266.1900  3420395.0\n",
       "1  2020-03-09 09:32:00  266.190  267.2500  265.162  267.1000   351423.0\n",
       "2  2020-03-09 09:33:00  267.124  267.9300  266.870  267.8001   316993.0\n",
       "3  2020-03-09 09:34:00  267.890  268.1291  266.635  267.4100   319034.0\n",
       "4  2020-03-09 09:35:00  267.430  267.4300  267.430  267.4300        0.0"
      ]
     },
     "execution_count": 4,
     "metadata": {},
     "output_type": "execute_result"
    }
   ],
   "source": [
    "data.head()"
   ]
  },
  {
   "cell_type": "code",
   "execution_count": 3,
   "metadata": {},
   "outputs": [],
   "source": [
    "from Bot_Functions import *"
   ]
  },
  {
   "cell_type": "code",
   "execution_count": 4,
   "metadata": {},
   "outputs": [],
   "source": [
    "X,Y = create_dataset(data_file)"
   ]
  },
  {
   "cell_type": "code",
   "execution_count": 5,
   "metadata": {},
   "outputs": [
    {
     "data": {
      "text/plain": [
       "array([[0.40441176, 0.47617647, 0.50364706],\n",
       "       [0.47617647, 0.50364706, 0.52617647],\n",
       "       [0.50364706, 0.52617647, 0.51264706],\n",
       "       ...,\n",
       "       [0.58676471, 0.64267353, 0.62352941],\n",
       "       [0.64267353, 0.62352941, 0.65352941],\n",
       "       [0.62352941, 0.65352941, 0.71794118]])"
      ]
     },
     "execution_count": 5,
     "metadata": {},
     "output_type": "execute_result"
    }
   ],
   "source": [
    "X"
   ]
  },
  {
   "cell_type": "code",
   "execution_count": null,
   "metadata": {},
   "outputs": [],
   "source": []
  }
 ],
 "metadata": {
  "kernelspec": {
   "display_name": "Python 3",
   "language": "python",
   "name": "python3"
  },
  "language_info": {
   "codemirror_mode": {
    "name": "ipython",
    "version": 3
   },
   "file_extension": ".py",
   "mimetype": "text/x-python",
   "name": "python",
   "nbconvert_exporter": "python",
   "pygments_lexer": "ipython3",
   "version": "3.7.6"
  }
 },
 "nbformat": 4,
 "nbformat_minor": 4
}
